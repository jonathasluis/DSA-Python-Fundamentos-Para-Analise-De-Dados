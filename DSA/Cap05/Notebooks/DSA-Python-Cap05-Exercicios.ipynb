{
  "nbformat": 4,
  "nbformat_minor": 0,
  "metadata": {
    "kernelspec": {
      "display_name": "Python 3",
      "language": "python",
      "name": "python3"
    },
    "language_info": {
      "codemirror_mode": {
        "name": "ipython",
        "version": 3
      },
      "file_extension": ".py",
      "mimetype": "text/x-python",
      "name": "python",
      "nbconvert_exporter": "python",
      "pygments_lexer": "ipython3",
      "version": "3.7.6"
    },
    "colab": {
      "name": "DSA-Python-Cap05-Exercicios.ipynb",
      "provenance": [],
      "collapsed_sections": []
    }
  },
  "cells": [
    {
      "cell_type": "markdown",
      "metadata": {
        "id": "7SbuCmbdCf5w"
      },
      "source": [
        "# <font color='blue'>Data Science Academy - Python Fundamentos - Capítulo 5</font>\n",
        "\n",
        "## Download: http://github.com/dsacademybr"
      ]
    },
    {
      "cell_type": "code",
      "metadata": {
        "id": "dW0_3F-ICf5z"
      },
      "source": [
        "# Versão da Linguagem Python\n",
        "from platform import python_version\n",
        "print('Versão da Linguagem Python Usada Neste Jupyter Notebook:', python_version())"
      ],
      "execution_count": null,
      "outputs": []
    },
    {
      "cell_type": "markdown",
      "metadata": {
        "id": "-oQV6FpmCf5z"
      },
      "source": [
        "## Exercícios"
      ]
    },
    {
      "cell_type": "code",
      "metadata": {
        "colab": {
          "base_uri": "https://localhost:8080/"
        },
        "id": "ojmjxlpsCf50",
        "outputId": "75fa2551-0477-49b9-bc6f-b59e0cb5fe33"
      },
      "source": [
        "# Exercício 1 - Crie um objeto a partir da classe abaixo, chamado roc1, passando 2 parâmetros e depois faça uma chamada\n",
        "# aos atributos e métodos\n",
        "from math import sqrt\n",
        "\n",
        "class Rocket():\n",
        "     \n",
        "    def __init__(self, x=0, y=0):\n",
        "        self.x = x\n",
        "        self.y = y\n",
        "        \n",
        "    def move_rocket(self, x_increment=0, y_increment=1):\n",
        "        self.x += x_increment\n",
        "        self.y += y_increment\n",
        "        \n",
        "    def print_rocket(self):\n",
        "        print(self.x, self.y)\n",
        "        \n",
        "\n",
        "roc1 = Rocket(10, 34)\n",
        "roc1.x\n",
        "roc1.y\n",
        "roc1.print_rocket()\n",
        "roc1.move_rocket(12,44)\n",
        "roc1.print_rocket()"
      ],
      "execution_count": 12,
      "outputs": [
        {
          "output_type": "stream",
          "text": [
            "10 34\n",
            "22 78\n"
          ],
          "name": "stdout"
        }
      ]
    },
    {
      "cell_type": "code",
      "metadata": {
        "colab": {
          "base_uri": "https://localhost:8080/"
        },
        "id": "-jx_rSHnCf50",
        "outputId": "46c4a14f-ea42-4823-c604-e8e8f4894d9a"
      },
      "source": [
        "# Exercício 2 - Crie uma classe chamada Pessoa() com os atributos: nome, cidade, telefone e e-mail. Use pelo menos 2\n",
        "# métodos especiais na sua classe. Crie um objeto da sua classe e faça uma chamada a pelo menos um dos seus métodos\n",
        "# especiais.\n",
        "class Pessoa():\n",
        "\n",
        "    def __init__(self,nome,cidade,telefone,email):\n",
        "        self.nome = nome\n",
        "        self.cidade = cidade\n",
        "        self.telefone = telefone\n",
        "        self.email = email\n",
        "\n",
        "    def __str__(self):\n",
        "        return self.nome + ' mora em ' + self.cidade + ', seu contato é:\\ntelefone: ' + self.telefone + '\\nemail: ' + self.email\n",
        "\n",
        "\n",
        "pessoa1 = Pessoa('joao','sgs','9939','@.com')\n",
        "print(pessoa1)\n"
      ],
      "execution_count": 24,
      "outputs": [
        {
          "output_type": "stream",
          "text": [
            "joao mora em sgs, seu contato é:\n",
            "telefone: 9939\n",
            "email: @.com\n"
          ],
          "name": "stdout"
        }
      ]
    },
    {
      "cell_type": "code",
      "metadata": {
        "colab": {
          "base_uri": "https://localhost:8080/"
        },
        "id": "h_O8kOwECf50",
        "outputId": "794d9366-6903-4501-c5ad-fcfc11f2de7b"
      },
      "source": [
        "# Exercício 3 - Crie a classe Smartphone com 2 atributos, tamanho e interface e crie a classe MP3Player com os \n",
        "# atributos capacidade. A classe MP3player deve herdar os atributos da classe Smartphone.\n",
        "class Smartphone():\n",
        "    def __init__(self,tamanho,interface):\n",
        "        self.tamanho = tamanho\n",
        "        self.interface = interface\n",
        "\n",
        "class MP3Player(Smartphone):\n",
        "    def __init__(self,capacidade,tamanho='pequeno',interface='led'):\n",
        "        self.capacidade = capacidade\n",
        "        Smartphone.__init__(self, tamanho, interface)\n",
        "\n",
        "    def print_mp3player(self):\n",
        "        print(\"Valores para o objeto criado: %s %s %s\"  %(self.tamanho, self.interface, self.capacidade))\n",
        "\n",
        "\n",
        "x = MP3Player('32GB')\n",
        "x.print_mp3player()"
      ],
      "execution_count": 25,
      "outputs": [
        {
          "output_type": "stream",
          "text": [
            "Valores para o objeto criado: pequeno led 32GB\n"
          ],
          "name": "stdout"
        }
      ]
    },
    {
      "cell_type": "markdown",
      "metadata": {
        "id": "hJs505o-Cf51"
      },
      "source": [
        "### FIM"
      ]
    },
    {
      "cell_type": "markdown",
      "metadata": {
        "id": "QWaFCcXxCf51"
      },
      "source": [
        "### Obrigado - Data Science Academy - <a href=\"http://facebook.com/dsacademybr\">facebook.com/dsacademybr</a>"
      ]
    }
  ]
}