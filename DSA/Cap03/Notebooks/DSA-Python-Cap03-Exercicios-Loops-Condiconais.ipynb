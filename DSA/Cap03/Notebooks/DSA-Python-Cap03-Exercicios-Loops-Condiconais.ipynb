{
  "nbformat": 4,
  "nbformat_minor": 0,
  "metadata": {
    "kernelspec": {
      "display_name": "Python 3",
      "language": "python",
      "name": "python3"
    },
    "language_info": {
      "codemirror_mode": {
        "name": "ipython",
        "version": 3
      },
      "file_extension": ".py",
      "mimetype": "text/x-python",
      "name": "python",
      "nbconvert_exporter": "python",
      "pygments_lexer": "ipython3",
      "version": "3.7.6"
    },
    "colab": {
      "name": "DSA-Python-Cap03-Exercicios-Loops-Condiconais.ipynb",
      "provenance": [],
      "collapsed_sections": []
    }
  },
  "cells": [
    {
      "cell_type": "markdown",
      "metadata": {
        "id": "wcqCM6HZ9L-s"
      },
      "source": [
        "# <font color='blue'>Data Science Academy - Python Fundamentos - Capítulo 3</font>\n",
        "\n",
        "## Download: http://github.com/dsacademybr"
      ]
    },
    {
      "cell_type": "code",
      "metadata": {
        "colab": {
          "base_uri": "https://localhost:8080/"
        },
        "id": "yN6vamOm9L-u",
        "outputId": "71af662d-4f73-48b4-f800-e0dbe2bab2f8"
      },
      "source": [
        "# Versão da Linguagem Python\n",
        "from platform import python_version\n",
        "print('Versão da Linguagem Python Usada Neste Jupyter Notebook:', python_version())"
      ],
      "execution_count": 1,
      "outputs": [
        {
          "output_type": "stream",
          "text": [
            "Versão da Linguagem Python Usada Neste Jupyter Notebook: 3.7.10\n"
          ],
          "name": "stdout"
        }
      ]
    },
    {
      "cell_type": "markdown",
      "metadata": {
        "id": "4I2_VnRo9L-v"
      },
      "source": [
        "## Exercícios - Loops e Condiconais"
      ]
    },
    {
      "cell_type": "code",
      "metadata": {
        "id": "J0pMqAny9L-v"
      },
      "source": [
        "# Exercício 1 - Crie uma estrutura que pergunte ao usuário qual o dia da semana. Se o dia for igual a Domingo ou \n",
        "# igual a sábado, imprima na tela \"Hoje é dia de descanso\", caso contrário imprima na tela \"Você precisa trabalhar!\"\n",
        "dia = input(\"qual é o dia da semana: \")\n",
        "if (dia == 'domingo' or dia == 'sabado'):\n",
        "  print('hoje é dia de descanso')\n",
        "else:\n",
        "  print('voce precisa trabalhar')"
      ],
      "execution_count": null,
      "outputs": []
    },
    {
      "cell_type": "code",
      "metadata": {
        "colab": {
          "base_uri": "https://localhost:8080/"
        },
        "id": "-ysmWbez9L-v",
        "outputId": "b85311b7-3c96-4bda-d294-9cda0a9a473e"
      },
      "source": [
        "# Exercício 2 - Crie uma lista de 5 frutas e verifique se a fruta 'Morango' faz parte da lista\n",
        "lista1 = ['abacaxi','uva','morango']\n",
        "for fruta in lista1:\n",
        "  if (fruta == 'morango'):\n",
        "    print('tem')\n",
        "    "
      ],
      "execution_count": 10,
      "outputs": [
        {
          "output_type": "stream",
          "text": [
            "tem\n"
          ],
          "name": "stdout"
        }
      ]
    },
    {
      "cell_type": "code",
      "metadata": {
        "colab": {
          "base_uri": "https://localhost:8080/"
        },
        "id": "tz67HBR99L-w",
        "outputId": "2ecf471c-0fbf-4050-cbf4-e9368bab9f48"
      },
      "source": [
        "# Exercício 3 - Crie uma tupla de 4 elementos, multiplique cada elemento da tupla por 2 e guarde os resultados em uma \n",
        "# lista\n",
        "tupla = (2,4,6,8)\n",
        "lista = []\n",
        "for x in tupla:\n",
        "  novo = x*2\n",
        "  lista.append(novo)\n",
        "\n",
        "print(lista)"
      ],
      "execution_count": 12,
      "outputs": [
        {
          "output_type": "stream",
          "text": [
            "[4, 8, 12, 16]\n"
          ],
          "name": "stdout"
        }
      ]
    },
    {
      "cell_type": "code",
      "metadata": {
        "colab": {
          "base_uri": "https://localhost:8080/"
        },
        "id": "oDzInrre9L-w",
        "outputId": "0e54aa33-ef28-4e66-be7d-5cc7baf2bf8c"
      },
      "source": [
        "# Exercício 4 - Crie uma sequência de números pares entre 100 e 150 e imprima na tela\n",
        "for x in range(100,151,2):\n",
        "  print(x)"
      ],
      "execution_count": 15,
      "outputs": [
        {
          "output_type": "stream",
          "text": [
            "100\n",
            "102\n",
            "104\n",
            "106\n",
            "108\n",
            "110\n",
            "112\n",
            "114\n",
            "116\n",
            "118\n",
            "120\n",
            "122\n",
            "124\n",
            "126\n",
            "128\n",
            "130\n",
            "132\n",
            "134\n",
            "136\n",
            "138\n",
            "140\n",
            "142\n",
            "144\n",
            "146\n",
            "148\n",
            "150\n"
          ],
          "name": "stdout"
        }
      ]
    },
    {
      "cell_type": "code",
      "metadata": {
        "colab": {
          "base_uri": "https://localhost:8080/"
        },
        "id": "7ACYHzsl9L-w",
        "outputId": "5634c515-2ff9-481b-ac41-b51940221085"
      },
      "source": [
        "# Exercício 5 - Crie uma variável chamada temperatura e atribua o valor 40. Enquanto temperatura for maior que 35, \n",
        "# imprima as temperaturas na tela\n",
        "temperatura = 40\n",
        "while (temperatura > 35):\n",
        "  print(temperatura)\n",
        "  temperatura -= 1"
      ],
      "execution_count": 18,
      "outputs": [
        {
          "output_type": "stream",
          "text": [
            "40\n",
            "39\n",
            "38\n",
            "37\n",
            "36\n"
          ],
          "name": "stdout"
        }
      ]
    },
    {
      "cell_type": "code",
      "metadata": {
        "colab": {
          "base_uri": "https://localhost:8080/"
        },
        "id": "HQJU2B6R9L-x",
        "outputId": "f8399138-73f9-4c27-89b2-15f9f08f1c07"
      },
      "source": [
        "# Exercício 6 - Crie uma variável chamada contador = 0. Enquanto counter for menor que 100, imprima os valores na tela,\n",
        "# mas quando for encontrado o valor 23, interrompa a execução do programa\n",
        "contador = 0\n",
        "while (contador < 100):\n",
        "  if (contador == 23):\n",
        "    break\n",
        "  print(contador)\n",
        "  contador += 1"
      ],
      "execution_count": 20,
      "outputs": [
        {
          "output_type": "stream",
          "text": [
            "0\n",
            "1\n",
            "2\n",
            "3\n",
            "4\n",
            "5\n",
            "6\n",
            "7\n",
            "8\n",
            "9\n",
            "10\n",
            "11\n",
            "12\n",
            "13\n",
            "14\n",
            "15\n",
            "16\n",
            "17\n",
            "18\n",
            "19\n",
            "20\n",
            "21\n",
            "22\n"
          ],
          "name": "stdout"
        }
      ]
    },
    {
      "cell_type": "code",
      "metadata": {
        "colab": {
          "base_uri": "https://localhost:8080/"
        },
        "id": "CBNDEzfu9L-x",
        "outputId": "4d6a16ca-3ea3-4d75-d76a-fcf0edb4a47a"
      },
      "source": [
        "# Exercício 7 - Crie uma lista vazia e uma variável com valor 4. Enquanto o valor da variável for menor ou igual a 20, \n",
        "# adicione à lista, apenas os valores pares e imprima a lista\n",
        "lista7 = []\n",
        "var = 4\n",
        "\n",
        "while (var <= 20):\n",
        "  lista7.append(var)\n",
        "  var +=2\n",
        "\n",
        "print(lista7)"
      ],
      "execution_count": 23,
      "outputs": [
        {
          "output_type": "stream",
          "text": [
            "[4, 6, 8, 10, 12, 14, 16, 18, 20]\n"
          ],
          "name": "stdout"
        }
      ]
    },
    {
      "cell_type": "code",
      "metadata": {
        "colab": {
          "base_uri": "https://localhost:8080/"
        },
        "id": "ndRJibpH9L-y",
        "outputId": "3570e6f5-ba83-4a50-89ad-da9c67fc1ee6"
      },
      "source": [
        "# Exercício 8 - Transforme o resultado desta função range em uma lista: range(5, 45, 2)\n",
        "nums = range(5, 45, 2)\n",
        "'''\n",
        "list8 = list()\n",
        "\n",
        "for i in nums:\n",
        "  list8.append(i)\n",
        "'''\n",
        "print(list(nums))"
      ],
      "execution_count": 25,
      "outputs": [
        {
          "output_type": "stream",
          "text": [
            "[5, 7, 9, 11, 13, 15, 17, 19, 21, 23, 25, 27, 29, 31, 33, 35, 37, 39, 41, 43]\n"
          ],
          "name": "stdout"
        }
      ]
    },
    {
      "cell_type": "code",
      "metadata": {
        "colab": {
          "base_uri": "https://localhost:8080/"
        },
        "id": "1jj18dC59L-y",
        "outputId": "141e9672-ea06-4218-d6d2-a43b68459d00"
      },
      "source": [
        "# Exercício 9 - Faça a correção dos erros no código abaixo e execute o programa. Dica: são 3 erros.\n",
        "temperatura = float(input('Qual a temperatura? '))\n",
        "if temperatura > 30:\n",
        "  print('Vista roupas leves.')\n",
        "else:\n",
        "  print('Busque seus casacos.')"
      ],
      "execution_count": 27,
      "outputs": [
        {
          "output_type": "stream",
          "text": [
            "Qual a temperatura? 5\n",
            "Busque seus casacos.\n"
          ],
          "name": "stdout"
        }
      ]
    },
    {
      "cell_type": "code",
      "metadata": {
        "colab": {
          "base_uri": "https://localhost:8080/"
        },
        "id": "4olgugDO9L-y",
        "outputId": "f29e035a-520b-492c-cef5-4ac953e268a5"
      },
      "source": [
        "# Exercício 10 - Faça um programa que conte quantas vezes a letra \"r\" aparece na frase abaixo. Use um placeholder na \n",
        "# sua instrução de impressão\n",
        "\n",
        "# “É melhor, muito melhor, contentar-se com a realidade; se ela não é tão brilhante como os sonhos, tem pelo menos a \n",
        "# vantagem de existir.” (Machado de Assis)\n",
        "\n",
        "frase = \"É melhor, muito melhor, contentar-se com a realidade; se ela não é tão brilhante como os sonhos, tem pelo menos a vantagem de existir.\" \n",
        "cont = 0\n",
        "\n",
        "for caractere in frase:\n",
        "  if (caractere == 'r'):\n",
        "    cont += 1\n",
        "\n",
        "print(\"o caractere \\\"r\\\" aparece %s vezes na frase\" %(cont))"
      ],
      "execution_count": 36,
      "outputs": [
        {
          "output_type": "stream",
          "text": [
            "o caractere \"r\" aparece 6 vezes na frase\n"
          ],
          "name": "stdout"
        }
      ]
    },
    {
      "cell_type": "markdown",
      "metadata": {
        "id": "gHfa0QOr9L-y"
      },
      "source": [
        "# Fim"
      ]
    },
    {
      "cell_type": "markdown",
      "metadata": {
        "id": "H1De5McB9L-z"
      },
      "source": [
        "### Obrigado - Data Science Academy - <a href=\"http://facebook.com/dsacademybr\">facebook.com/dsacademybr</a>"
      ]
    }
  ]
}